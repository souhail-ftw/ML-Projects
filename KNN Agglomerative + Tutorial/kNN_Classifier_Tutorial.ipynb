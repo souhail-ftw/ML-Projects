{
  "cells": [
    {
      "metadata": {
        "id": "60hhGHrj4qKJ"
      },
      "cell_type": "markdown",
      "source": [
        "<a class=\"anchor\" id=\"0\"></a>\n",
        "# **kNN Classifier Tutorial in Python**\n",
        "\n",
        "\n",
        "Hello friends,\n",
        "\n",
        "kNN or k-Nearest Neighbours Classifier is a very simple and easy to understand machine learning algorithm. In this kernel, I build a k Nearest Neighbours classifier to classify the patients suffering from Breast Cancer.\n",
        "\n",
        "So, let's get started.\n"
      ]
    },
    {
      "metadata": {
        "id": "YQpeQQk54qKK"
      },
      "cell_type": "markdown",
      "source": [
        "**I hope you find this kernel useful and some <font color=\"red\"><b>UPVOTES</b></font> would be highly appreciated**."
      ]
    },
    {
      "metadata": {
        "id": "M2Tz8chY4qKK"
      },
      "cell_type": "markdown",
      "source": [
        "<a class=\"anchor\" id=\"0.1\"></a>\n",
        "# **Table of Contents**\n",
        "\n",
        "\n",
        "1. [Introduction to k Nearest Neighbours Algorithm](#1)\n",
        "2. [k Nearest Neighbours intuition](#2)\n",
        "3. [How to decide the number of neighbours in kNN](#3)\n",
        "4. [Eager learners vs lazy learners](#4)\n",
        "5. [Import libraries](#5)\n",
        "6. [Import dataset](#6)\n",
        "7. [Exploratory data analysis](#7)\n",
        "8. [Data visualization](#8)\n",
        "9. [Declare feature vector and target variable](#9)\n",
        "10. [Split data into separate training and test set](#10)\n",
        "11.\t[Feature engineering](#11)\n",
        "12.\t[Feature scaling](#12)\n",
        "13.\t[Fit Neighbours classifier to the training set](#13)\n",
        "14.\t[Predict the test-set results](#14)\n",
        "15.\t[Check the accuracy score](#15)\n",
        "16.\t[Rebuild kNN classification model using different values of k](#16)\n",
        "17.\t[Confusion matrix](#17)\n",
        "18.\t[Classification metrices](#18)\n",
        "19.\t[ROC - AUC](#19)\n",
        "20.\t[k-Fold Cross Validation](#20)\n",
        "21.\t[Results and conclusion](#21)\n",
        "22. [References](#22)\n"
      ]
    },
    {
      "metadata": {
        "id": "1EY9QUea4qKK"
      },
      "cell_type": "markdown",
      "source": [
        "# **1. Introduction to k Nearest Neighbours algorithm** <a class=\"anchor\" id=\"1\"></a>\n",
        "\n",
        "[Table of Contents](#0.1)\n",
        "\n",
        "\n",
        "In machine learning, k Nearest Neighbours or kNN is the simplest of all machine learning algorithms. It is a non-parametric algorithm used for classification and regression tasks. Non-parametric means there is no assumption required for data distribution. So, kNN does not require any underlying assumption to be made. In both classification and regression tasks, the input consists of the k closest training examples in the feature space. The output depends upon whether kNN is used for classification or regression purposes.\n",
        "\n",
        "-\tIn kNN classification, the output is a class membership. The given data point is classified based on the majority of type of its neighbours. The data point is assigned to the most frequent class among its k nearest neighbours. Usually k is a small positive integer. If k=1, then the data point is simply assigned to the class of that single nearest neighbour.\n",
        "\n",
        "-\tIn kNN regression, the output is simply some property value for the object. This value is the average of the values of k nearest neighbours.\n",
        "\n",
        "\n",
        "kNN is a type of instance-based learning or lazy learning. Lazy learning means it does not require any training data points for model generation. All training data will be used in the testing phase. This makes training faster and testing slower and costlier. So, the testing phase requires more time and memory resources.\n",
        "\n",
        "In kNN, the neighbours are taken from a set of objects for which the class or the object property value is known. This can be thought of as the training set for the kNN algorithm, though no explicit training step is required. In both classification and regression kNN algorithm, we can assign weight to the contributions of the neighbours. So, nearest neighbours contribute more to the average than the more distant ones.\n",
        "\n"
      ]
    },
    {
      "metadata": {
        "id": "Y9BUXIdu4qKL"
      },
      "cell_type": "markdown",
      "source": [
        "# **2. k Nearest Neighbours intuition** <a class=\"anchor\" id=\"2\"></a>\n",
        "\n",
        "[Table of Contents](#0.1)\n",
        "\n",
        "The kNN algorithm intuition is very simple to understand. It simply calculates the distance between a sample data point and all the other training data points. The distance can be Euclidean distance or Manhattan distance. Then, it selects the k nearest data points where k can be any integer. Finally, it assigns the sample data point to the class to which the majority of the k data points belong.\n",
        "\n",
        "\n",
        "Now, we will see kNN algorithm in action. Suppose, we have a dataset with two variables which are classified as `Red` and `Blue`.\n",
        "\n",
        "\n",
        "In kNN algorithm, k is the number of nearest neighbours. Generally, k is an odd number because it helps to decide the majority of the class. When k=1, then the algorithm is known as the nearest neighbour algorithm.\n",
        "\n",
        "Now, we want to classify a new data point `X` into `Blue` class or `Red` class. Suppose the value of k is 3. The kNN algorithm starts by calculating the distance between `X` and all the other data points. It then finds the 3 nearest points with least distance to point `X`.\n",
        "\n",
        "\n",
        "In the final step of the kNN algorithm, we assign the new data point `X` to the majority of the class of the 3 nearest points. If 2 of the 3 nearest points belong to the class `Red` while 1 belong to the class `Blue`, then we classify the new data point  as `Red`.\n"
      ]
    },
    {
      "metadata": {
        "id": "VUkqpZH64qKL"
      },
      "cell_type": "markdown",
      "source": [
        "# **3. How to decide the number of neighbours in kNN** <a class=\"anchor\" id=\"3\"></a>\n",
        "\n",
        "[Table of Contents](#0.1)\n",
        "\n",
        "\n",
        "While building the kNN classifier model, one question that come to my mind is what should be the value of nearest neighbours (k) that yields highest accuracy. This is a very important question because the classification accuracy depends upon our choice of k.\n",
        "\n",
        "The number of neighbours (k) in kNN is a parameter that we need to select at the time of model building. Selecting the optimal value of k in kNN is the most critical problem. A small value of k means that noise will have higher influence on the result. So, probability of overfitting is very high. A large value of k makes it computationally expensive in terms of time to build the kNN model. Also, a large value of k will have a smoother decision boundary which means lower variance but higher bias.\n",
        "\n",
        "The data scientists choose an odd value of k if the number of classes is even. We can apply the elbow method to select the value of k. To optimize the results, we can use Cross Validation technique. Using the cross-validation technique, we can test the kNN algorithm with different values of k. The model which gives good accuracy can be considered to be an optimal choice. It depends on individual cases and at times best process is to run through each possible value of k and test our result."
      ]
    },
    {
      "metadata": {
        "id": "kEuDMrAf4qKL"
      },
      "cell_type": "markdown",
      "source": [
        "# **4. Eager learners vs lazy learners** <a class=\"anchor\" id=\"4\"></a>\n",
        "\n",
        "[Table of Contents](#0.1)\n",
        "\n",
        "Eager learners mean when giving training data points, we will construct a generalized model before performing prediction on given new points to classify. We can think of such learners as being ready, active and eager to classify new data points.\n",
        "\n",
        "Lazy learning means there is no need for learning or training of the model and all of the data points are used at the time of prediction. Lazy learners wait until the last minute before classifying any data point. They merely store the training dataset and waits until classification needs to perform. Lazy learners are also known as instance-based learners because lazy learners store the training points or instances, and all learning is based on instances.\n",
        "\n",
        "Unlike eager learners, lazy learners do less work in the training phase and more work in the testing phase to make a classification."
      ]
    },
    {
      "metadata": {
        "id": "lEcEZmTl4qKM"
      },
      "cell_type": "markdown",
      "source": [
        "# **5. Import libraries** <a class=\"anchor\" id=\"5\"></a>\n",
        "\n",
        "[Table of Contents](#0.1)"
      ]
    },
    {
      "metadata": {
        "trusted": true,
        "id": "amiP8q7P4qKM"
      },
      "cell_type": "code",
      "source": [
        "# This Python 3 environment comes with many helpful analytics libraries installed\n",
        "# It is defined by the kaggle/python docker image: https://github.com/kaggle/docker-python\n",
        "# For example, here's several helpful packages to load in\n",
        "\n",
        "import numpy as np # linear algebra\n",
        "import pandas as pd # data processing, CSV file I/O (e.g. pd.read_csv)\n",
        "import matplotlib.pyplot as plt # for data visualization purposes\n",
        "import seaborn as sns # for data visualization\n",
        "%matplotlib inline\n",
        "\n",
        "# Input data files are available in the \"../input/\" directory.\n",
        "# For example, running this (by clicking run or pressing Shift+Enter) will list all files under the input directory\n",
        "\n",
        "import os\n",
        "for dirname, _, filenames in os.walk('/kaggle/input'):\n",
        "    for filename in filenames:\n",
        "        print(os.path.join(dirname, filename))\n",
        "\n",
        "# Any results you write to the current directory are saved as output.\n"
      ],
      "execution_count": null,
      "outputs": []
    },
    {
      "metadata": {
        "trusted": true,
        "id": "p8SmGRdT4qKN"
      },
      "cell_type": "code",
      "source": [
        "import warnings\n",
        "\n",
        "warnings.filterwarnings('ignore')"
      ],
      "execution_count": null,
      "outputs": []
    },
    {
      "metadata": {
        "id": "wwkwoz8S4qKN"
      },
      "cell_type": "markdown",
      "source": [
        "# **6. Import dataset** <a class=\"anchor\" id=\"6\"></a>\n",
        "\n",
        "[Table of Contents](#0.1)"
      ]
    },
    {
      "metadata": {
        "trusted": true,
        "id": "ZUEGpdCX4qKN"
      },
      "cell_type": "code",
      "source": [
        "data = '/kaggle/input/uci-breast-cancer-wisconsin-original/breast-cancer-wisconsin.data.txt'\n",
        "\n",
        "df = pd.read_csv(data, header=None)"
      ],
      "execution_count": null,
      "outputs": []
    },
    {
      "metadata": {
        "id": "bzIqjUH54qKN"
      },
      "cell_type": "markdown",
      "source": [
        "# **7. Exploratory data analysis** <a class=\"anchor\" id=\"7\"></a>\n",
        "\n",
        "[Table of Contents](#0.1)\n",
        "\n",
        "\n",
        "Now, I will explore the data to gain insights about the data."
      ]
    },
    {
      "metadata": {
        "trusted": true,
        "id": "8bIB5RKf4qKN"
      },
      "cell_type": "code",
      "source": [
        "# view dimensions of dataset\n",
        "\n",
        "df.shape"
      ],
      "execution_count": null,
      "outputs": []
    },
    {
      "metadata": {
        "id": "_FFoo_rW4qKN"
      },
      "cell_type": "markdown",
      "source": [
        "We can see that there are 699 instances and 11 attributes in the data set.\n",
        "\n",
        "\n",
        "In the dataset description, it is given that there are 10 attributes and 1 `Class` which is the target variable. So, we have 10 attributes and 1 target variable."
      ]
    },
    {
      "metadata": {
        "id": "rCNpkGr54qKN"
      },
      "cell_type": "markdown",
      "source": [
        "### View top 5 rows of dataset"
      ]
    },
    {
      "metadata": {
        "trusted": true,
        "id": "jCwEnfSm4qKN"
      },
      "cell_type": "code",
      "source": [
        "# preview the dataset\n",
        "\n",
        "df.head()"
      ],
      "execution_count": null,
      "outputs": []
    },
    {
      "metadata": {
        "id": "E3rF6XSa4qKO"
      },
      "cell_type": "markdown",
      "source": [
        "### Rename column names\n",
        "\n",
        "We can see that the dataset does not have proper column names. The columns are merely labelled as 0,1,2.... and so on. We should give proper names to the columns. I will do it as follows:-"
      ]
    },
    {
      "metadata": {
        "trusted": true,
        "id": "0-xtukCT4qKO"
      },
      "cell_type": "code",
      "source": [
        "col_names = ['Id', 'Clump_thickness', 'Uniformity_Cell_Size', 'Uniformity_Cell_Shape', 'Marginal_Adhesion',\n",
        "             'Single_Epithelial_Cell_Size', 'Bare_Nuclei', 'Bland_Chromatin', 'Normal_Nucleoli', 'Mitoses', 'Class']\n",
        "\n",
        "df.columns = col_names\n",
        "\n",
        "df.columns"
      ],
      "execution_count": null,
      "outputs": []
    },
    {
      "metadata": {
        "id": "kyYSByF54qKO"
      },
      "cell_type": "markdown",
      "source": [
        "We can see that the column names are renamed. Now, the columns have meaningful names."
      ]
    },
    {
      "metadata": {
        "trusted": true,
        "id": "GRvIfP944qKO"
      },
      "cell_type": "code",
      "source": [
        "# let's agian preview the dataset\n",
        "\n",
        "df.head()"
      ],
      "execution_count": null,
      "outputs": []
    },
    {
      "metadata": {
        "id": "WrJVNZ4P4qKO"
      },
      "cell_type": "markdown",
      "source": [
        "### Drop redundant columns\n",
        "\n",
        "\n",
        "We should drop any redundant columns from the dataset which does not have any predictive power. Here, `Id` is the redundant column. So, I will drop it first."
      ]
    },
    {
      "metadata": {
        "trusted": true,
        "id": "OSn2pk-R4qKO"
      },
      "cell_type": "code",
      "source": [
        "# drop Id column from dataset\n",
        "\n",
        "df.drop('Id', axis=1, inplace=True)"
      ],
      "execution_count": null,
      "outputs": []
    },
    {
      "metadata": {
        "id": "JiMG55hi4qKO"
      },
      "cell_type": "markdown",
      "source": [
        "### View summary of dataset\n"
      ]
    },
    {
      "metadata": {
        "trusted": true,
        "id": "hfOarMXd4qKO"
      },
      "cell_type": "code",
      "source": [
        "# view summary of dataset\n",
        "\n",
        "df.info()"
      ],
      "execution_count": null,
      "outputs": []
    },
    {
      "metadata": {
        "id": "rSbb3lu-4qKO"
      },
      "cell_type": "markdown",
      "source": [
        "We can see that the `Id` column has been removed from the dataset.\n",
        "\n",
        "We can see that there are 9 numerical variables and 1 categorical variable in the dataset. I will check the frequency distribution of values in the variables to confirm the same."
      ]
    },
    {
      "metadata": {
        "id": "dYotfQFS4qKO"
      },
      "cell_type": "markdown",
      "source": [
        "### Frequency distribution of values in variables"
      ]
    },
    {
      "metadata": {
        "trusted": true,
        "id": "Tw4AGXHF4qKO"
      },
      "cell_type": "code",
      "source": [
        "for var in df.columns:\n",
        "\n",
        "    print(df[var].value_counts())\n"
      ],
      "execution_count": null,
      "outputs": []
    },
    {
      "metadata": {
        "id": "KYiACJbk4qKP"
      },
      "cell_type": "markdown",
      "source": [
        "The distribution of values shows that data type of `Bare_Nuclei` is of type integer. But the summary of the dataframe shows that it is type object. So, I will explicitly convert its data type to integer."
      ]
    },
    {
      "metadata": {
        "id": "btEJxS6H4qKP"
      },
      "cell_type": "markdown",
      "source": [
        "### Convert data type of Bare_Nuclei to integer"
      ]
    },
    {
      "metadata": {
        "trusted": true,
        "id": "mFB31Wtt4qKP"
      },
      "cell_type": "code",
      "source": [
        "df['Bare_Nuclei'] = pd.to_numeric(df['Bare_Nuclei'], errors='coerce')"
      ],
      "execution_count": null,
      "outputs": []
    },
    {
      "metadata": {
        "id": "8Fvy1mQ24qKP"
      },
      "cell_type": "markdown",
      "source": [
        "### Check data types of columns of dataframe"
      ]
    },
    {
      "metadata": {
        "trusted": true,
        "id": "Sl3dZtYU4qKP"
      },
      "cell_type": "code",
      "source": [
        "df.dtypes"
      ],
      "execution_count": null,
      "outputs": []
    },
    {
      "metadata": {
        "id": "qQyp0DhY4qKP"
      },
      "cell_type": "markdown",
      "source": [
        "Now, we can see that all the columns of the dataframe are of type numeric."
      ]
    },
    {
      "metadata": {
        "id": "R4MXKQvO4qKP"
      },
      "cell_type": "markdown",
      "source": [
        "### Summary of variables\n",
        "\n",
        "\n",
        "- There are 10 numerical variables in the dataset.\n",
        "\n",
        "\n",
        "- All of the variables are of discrete type.\n",
        "\n",
        "\n",
        "- Out of all the 10 variables, the first 9 variables are feature variables and last variable `Class` is the target variable.\n",
        "\n",
        "\n"
      ]
    },
    {
      "metadata": {
        "id": "OZ3w9-_Z4qKP"
      },
      "cell_type": "markdown",
      "source": [
        "### Explore problems within variables\n",
        "\n",
        "\n",
        "Now, I will explore problems within variables.\n"
      ]
    },
    {
      "metadata": {
        "id": "rw4dKEdL4qKP"
      },
      "cell_type": "markdown",
      "source": [
        "### Missing values in variables"
      ]
    },
    {
      "metadata": {
        "trusted": true,
        "id": "Rk8jy89x4qKP"
      },
      "cell_type": "code",
      "source": [
        "# check missing values in variables\n",
        "\n",
        "df.isnull().sum()"
      ],
      "execution_count": null,
      "outputs": []
    },
    {
      "metadata": {
        "id": "fmMWH5GR4qKT"
      },
      "cell_type": "markdown",
      "source": [
        "We can see that the `Bare_Nuclei` column contains missing values. We need to dig deeper to find the frequency distribution of\n",
        "values of `Bare_Nuclei`."
      ]
    },
    {
      "metadata": {
        "scrolled": true,
        "trusted": true,
        "id": "DteVc0Qx4qKT"
      },
      "cell_type": "code",
      "source": [
        "# check `na` values in the dataframe\n",
        "\n",
        "df.isna().sum()"
      ],
      "execution_count": null,
      "outputs": []
    },
    {
      "metadata": {
        "id": "5Qs6IXPw4qKT"
      },
      "cell_type": "markdown",
      "source": [
        "We can see that the `Bare_Nuclei` column contains 16 `nan` values."
      ]
    },
    {
      "metadata": {
        "trusted": true,
        "id": "zpLAmuZY4qKT"
      },
      "cell_type": "code",
      "source": [
        "# check frequency distribution of `Bare_Nuclei` column\n",
        "\n",
        "df['Bare_Nuclei'].value_counts()"
      ],
      "execution_count": null,
      "outputs": []
    },
    {
      "metadata": {
        "trusted": true,
        "id": "OgS9JsRR4qKT"
      },
      "cell_type": "code",
      "source": [
        "# check unique values in `Bare_Nuclei` column\n",
        "\n",
        "df['Bare_Nuclei'].unique()"
      ],
      "execution_count": null,
      "outputs": []
    },
    {
      "metadata": {
        "id": "IXyRWACA4qKT"
      },
      "cell_type": "markdown",
      "source": [
        "We can see that there are `nan` values in the `Bare_Nuclei` column."
      ]
    },
    {
      "metadata": {
        "trusted": true,
        "id": "CsqV3Pcj4qKT"
      },
      "cell_type": "code",
      "source": [
        "# check for nan values in `Bare_Nuclei` column\n",
        "\n",
        "df['Bare_Nuclei'].isna().sum()"
      ],
      "execution_count": null,
      "outputs": []
    },
    {
      "metadata": {
        "id": "zB0E7VxF4qKT"
      },
      "cell_type": "markdown",
      "source": [
        "We can see that there are 16 `nan` values in the dataset. I will impute missing values after dividing the dataset into training and test set."
      ]
    },
    {
      "metadata": {
        "id": "Q0lIPX1k4qKT"
      },
      "cell_type": "markdown",
      "source": [
        "### check frequency distribution of target variable `Class`"
      ]
    },
    {
      "metadata": {
        "trusted": true,
        "id": "85XAd3OI4qKU"
      },
      "cell_type": "code",
      "source": [
        "# view frequency distribution of values in `Class` variable\n",
        "\n",
        "df['Class'].value_counts()"
      ],
      "execution_count": null,
      "outputs": []
    },
    {
      "metadata": {
        "id": "3_VbkSsS4qKU"
      },
      "cell_type": "markdown",
      "source": [
        "### check  percentage of frequency distribution of `Class`"
      ]
    },
    {
      "metadata": {
        "trusted": true,
        "id": "-g7mbhWE4qKU"
      },
      "cell_type": "code",
      "source": [
        "# view percentage of frequency distribution of values in `Class` variable\n",
        "\n",
        "df['Class'].value_counts()/np.float(len(df))"
      ],
      "execution_count": null,
      "outputs": []
    },
    {
      "metadata": {
        "id": "yr0Rqd834qKU"
      },
      "cell_type": "markdown",
      "source": [
        "We can see that the `Class` variable contains 2 class labels - `2` and `4`. `2` stands for benign and `4` stands for malignant cancer."
      ]
    },
    {
      "metadata": {
        "id": "KDRlsk-24qKU"
      },
      "cell_type": "markdown",
      "source": [
        "### Outliers in numerical variables"
      ]
    },
    {
      "metadata": {
        "trusted": true,
        "id": "oCny_FXQ4qKU"
      },
      "cell_type": "code",
      "source": [
        "# view summary statistics in numerical variables\n",
        "\n",
        "print(round(df.describe(),2))"
      ],
      "execution_count": null,
      "outputs": []
    },
    {
      "metadata": {
        "id": "GC5HZz3c4qKU"
      },
      "cell_type": "markdown",
      "source": [
        "kNN algorithm is robust to outliers."
      ]
    },
    {
      "metadata": {
        "id": "NmLriQUO4qKU"
      },
      "cell_type": "markdown",
      "source": [
        "# **8. Data Visualization** <a class=\"anchor\" id=\"8\"></a>\n",
        "\n",
        "[Table of Contents](#0.1)\n",
        "\n",
        "\n",
        "Now, we have a basic understanding of our data. I will supplement it with some data visualization to get better understanding\n",
        "of our data."
      ]
    },
    {
      "metadata": {
        "id": "t5xQato34qKU"
      },
      "cell_type": "markdown",
      "source": [
        "### Univariate plots"
      ]
    },
    {
      "metadata": {
        "id": "loUs4WgV4qKU"
      },
      "cell_type": "markdown",
      "source": [
        "### Check the distribution of variables\n",
        "\n",
        "\n",
        "Now, I will plot the histograms to check variable distributions to find out if they are normal or skewed."
      ]
    },
    {
      "metadata": {
        "trusted": true,
        "id": "mT7NaIQ54qKU"
      },
      "cell_type": "code",
      "source": [
        "# plot histograms of the variables\n",
        "\n",
        "\n",
        "plt.rcParams['figure.figsize']=(30,25)\n",
        "\n",
        "df.plot(kind='hist', bins=10, subplots=True, layout=(5,2), sharex=False, sharey=False)\n",
        "\n",
        "plt.show()"
      ],
      "execution_count": null,
      "outputs": []
    },
    {
      "metadata": {
        "id": "ccv_PKl34qKV"
      },
      "cell_type": "markdown",
      "source": [
        "We can see that all the variables in the dataset are positively skewed."
      ]
    },
    {
      "metadata": {
        "id": "U0kJxUlM4qKV"
      },
      "cell_type": "markdown",
      "source": [
        "### Multivariate plots"
      ]
    },
    {
      "metadata": {
        "id": "KkG6YF7o4qKV"
      },
      "cell_type": "markdown",
      "source": [
        "### Estimating correlation coefficients\n",
        "\n",
        "Our dataset is very small. So, we can compute the standard correlation coefficient (also called Pearson's r) between every pair of attributes. We can compute it using the `df.corr()` method as follows:-"
      ]
    },
    {
      "metadata": {
        "trusted": true,
        "id": "sVs-VxPy4qKV"
      },
      "cell_type": "code",
      "source": [
        "correlation = df.corr()"
      ],
      "execution_count": null,
      "outputs": []
    },
    {
      "metadata": {
        "id": "rz5KeplT4qKV"
      },
      "cell_type": "markdown",
      "source": [
        "Our target variable is `Class`. So, we should check how each attribute correlates with the `Class` variable. We can do it as follows:-"
      ]
    },
    {
      "metadata": {
        "trusted": true,
        "id": "DVThthv94qKV"
      },
      "cell_type": "code",
      "source": [
        "correlation['Class'].sort_values(ascending=False)"
      ],
      "execution_count": null,
      "outputs": []
    },
    {
      "metadata": {
        "id": "8kfUpSl74qKV"
      },
      "cell_type": "markdown",
      "source": [
        "### Interpretation\n",
        "\n",
        "- The correlation coefficient ranges from -1 to +1.\n",
        "\n",
        "- When it is close to +1, this signifies that there is a strong positive correlation. So, we can see that there is a strong positive correlation between `Class` and `Bare_Nuclei`, `Class` and `Uniformity_Cell_Shape`, `Class` and `Uniformity_Cell_Size`.\n",
        "\n",
        "- When it is clsoe to -1, it means that there is a strong negative correlation. When it is close to 0, it means that there is no correlation.\n",
        "\n",
        "- We can see that all the variables are positively correlated with `Class` variable. Some variables are strongly positive correlated while some variables are negatively correlated."
      ]
    },
    {
      "metadata": {
        "id": "cwUCXfRA4qKV"
      },
      "cell_type": "markdown",
      "source": [
        "### Discover patterns and relationships\n",
        "\n",
        "\n",
        "An important step in EDA is to discover patterns and relationships between variables in the dataset. I will use the seaborn heatmap to explore the patterns and relationships in the dataset.\n"
      ]
    },
    {
      "metadata": {
        "id": "3GJVdT-l4qKV"
      },
      "cell_type": "markdown",
      "source": [
        "### Correlation Heat Map"
      ]
    },
    {
      "metadata": {
        "trusted": true,
        "id": "Y0jKqL4d4qKV"
      },
      "cell_type": "code",
      "source": [
        "plt.figure(figsize=(10,8))\n",
        "plt.title('Correlation of Attributes with Class variable')\n",
        "a = sns.heatmap(correlation, square=True, annot=True, fmt='.2f', linecolor='white')\n",
        "a.set_xticklabels(a.get_xticklabels(), rotation=90)\n",
        "a.set_yticklabels(a.get_yticklabels(), rotation=30)\n",
        "plt.show()"
      ],
      "execution_count": null,
      "outputs": []
    },
    {
      "metadata": {
        "id": "6nK9PypM4qKV"
      },
      "cell_type": "markdown",
      "source": [
        "### Interpretation\n",
        "\n",
        "\n",
        "From the above correlation heat map, we can conclude that :-\n",
        "\n",
        "1. `Class` is highly positive correlated with `Uniformity_Cell_Size`, `Uniformity_Cell_Shape` and `Bare_Nuclei`. (correlation coefficient = 0.82).\n",
        "\n",
        "2. `Class` is positively correlated with `Clump_thickness`(correlation coefficient=0.72), `Marginal_Adhesion`(correlation coefficient=0.70), `Single_Epithelial_Cell_Size)`(correlation coefficient = 0.68) and `Normal_Nucleoli`(correlation coefficient=0.71).\n",
        "\n",
        "3. `Class` is weekly positive correlated with `Mitoses`(correlation coefficient=0.42).\n",
        "\n",
        "4. The `Mitoses` variable is weekly positive correlated with all the other variables(correlation coefficient < 0.50)."
      ]
    },
    {
      "metadata": {
        "id": "Ae30C6PY4qKV"
      },
      "cell_type": "markdown",
      "source": [
        "# **9. Declare feature vector and target variable** <a class=\"anchor\" id=\"9\"></a>\n",
        "\n",
        "[Table of Contents](#0.1)"
      ]
    },
    {
      "metadata": {
        "trusted": true,
        "id": "vNJhwkFv4qKW"
      },
      "cell_type": "code",
      "source": [
        "X = df.drop(['Class'], axis=1)\n",
        "\n",
        "y = df['Class']"
      ],
      "execution_count": null,
      "outputs": []
    },
    {
      "metadata": {
        "id": "X3VA4ZtH4qKW"
      },
      "cell_type": "markdown",
      "source": [
        "# **10. Split data into separate training and test set** <a class=\"anchor\" id=\"10\"></a>\n",
        "\n",
        "[Table of Contents](#0.1)"
      ]
    },
    {
      "metadata": {
        "trusted": true,
        "id": "tidL-5VG4qKW"
      },
      "cell_type": "code",
      "source": [
        "# split X and y into training and testing sets\n",
        "\n",
        "from sklearn.model_selection import train_test_split\n",
        "\n",
        "X_train, X_test, y_train, y_test = train_test_split(X, y, test_size = 0.2, random_state = 0)\n"
      ],
      "execution_count": null,
      "outputs": []
    },
    {
      "metadata": {
        "trusted": true,
        "id": "GxMFj85t4qKW"
      },
      "cell_type": "code",
      "source": [
        "# check the shape of X_train and X_test\n",
        "\n",
        "X_train.shape, X_test.shape"
      ],
      "execution_count": null,
      "outputs": []
    },
    {
      "metadata": {
        "id": "GkOwBoYI4qKW"
      },
      "cell_type": "markdown",
      "source": [
        "# **11. Feature Engineering** <a class=\"anchor\" id=\"11\"></a>\n",
        "\n",
        "[Table of Contents](#0.1)\n",
        "\n",
        "\n",
        "**Feature Engineering** is the process of transforming raw data into useful features that help us to understand our model better and increase its predictive power. I will carry out feature engineering on different types of variables.\n"
      ]
    },
    {
      "metadata": {
        "trusted": true,
        "id": "YWCx_e5Z4qKW"
      },
      "cell_type": "code",
      "source": [
        "# check data types in X_train\n",
        "\n",
        "X_train.dtypes"
      ],
      "execution_count": null,
      "outputs": []
    },
    {
      "metadata": {
        "id": "7QCRN9Dm4qKW"
      },
      "cell_type": "markdown",
      "source": [
        "### Engineering missing values in variables\n",
        "\n"
      ]
    },
    {
      "metadata": {
        "trusted": true,
        "id": "rnKTY10d4qKW"
      },
      "cell_type": "code",
      "source": [
        "# check missing values in numerical variables in X_train\n",
        "\n",
        "X_train.isnull().sum()"
      ],
      "execution_count": null,
      "outputs": []
    },
    {
      "metadata": {
        "trusted": true,
        "id": "1NJ2VLn84qKW"
      },
      "cell_type": "code",
      "source": [
        "# check missing values in numerical variables in X_test\n",
        "\n",
        "X_test.isnull().sum()"
      ],
      "execution_count": null,
      "outputs": []
    },
    {
      "metadata": {
        "trusted": true,
        "id": "WKxxPatd4qKW"
      },
      "cell_type": "code",
      "source": [
        "# print percentage of missing values in the numerical variables in training set\n",
        "\n",
        "for col in X_train.columns:\n",
        "    if X_train[col].isnull().mean()>0:\n",
        "        print(col, round(X_train[col].isnull().mean(),4))"
      ],
      "execution_count": null,
      "outputs": []
    },
    {
      "metadata": {
        "id": "ydFrSrCB4qKW"
      },
      "cell_type": "markdown",
      "source": [
        "### Assumption\n",
        "\n",
        "\n",
        "I assume that the data are missing completely at random (MCAR). There are two methods which can be used to impute missing values. One is mean or median imputation and other one is random sample imputation. When there are outliers in the dataset, we should use median imputation. So, I will use median imputation because median imputation is robust to outliers.\n",
        "\n",
        "\n",
        "I will impute missing values with the appropriate statistical measures of the data, in this case median. Imputation should be done over the training set, and then propagated to the test set. It means that the statistical measures to be used to fill missing values both in train and test set, should be extracted from the train set only. This is to avoid overfitting."
      ]
    },
    {
      "metadata": {
        "trusted": true,
        "id": "ysX1jBSN4qKW"
      },
      "cell_type": "code",
      "source": [
        "# impute missing values in X_train and X_test with respective column median in X_train\n",
        "\n",
        "for df1 in [X_train, X_test]:\n",
        "    for col in X_train.columns:\n",
        "        col_median=X_train[col].median()\n",
        "        df1[col].fillna(col_median, inplace=True)\n",
        ""
      ],
      "execution_count": null,
      "outputs": []
    },
    {
      "metadata": {
        "trusted": true,
        "id": "5WVRoxXk4qKX"
      },
      "cell_type": "code",
      "source": [
        "# check again missing values in numerical variables in X_train\n",
        "\n",
        "X_train.isnull().sum()"
      ],
      "execution_count": null,
      "outputs": []
    },
    {
      "metadata": {
        "trusted": true,
        "id": "RpBqzXOo4qKX"
      },
      "cell_type": "code",
      "source": [
        "# check missing values in numerical variables in X_test\n",
        "\n",
        "X_test.isnull().sum()"
      ],
      "execution_count": null,
      "outputs": []
    },
    {
      "metadata": {
        "id": "qewreH4U4qKX"
      },
      "cell_type": "markdown",
      "source": [
        "We can see that there are no missing values in X_train and X_test."
      ]
    },
    {
      "metadata": {
        "trusted": true,
        "id": "oNywiEWd4qKX"
      },
      "cell_type": "code",
      "source": [
        "X_train.head()"
      ],
      "execution_count": null,
      "outputs": []
    },
    {
      "metadata": {
        "trusted": true,
        "id": "JmbaW1Ba4qKX"
      },
      "cell_type": "code",
      "source": [
        "X_test.head()"
      ],
      "execution_count": null,
      "outputs": []
    },
    {
      "metadata": {
        "id": "HseD5bpn4qKX"
      },
      "cell_type": "markdown",
      "source": [
        "We now have training and testing set ready for model building. Before that, we should map all the feature variables onto the same scale. It is called `feature scaling`. I will do it as follows."
      ]
    },
    {
      "metadata": {
        "id": "Y3mwXC_74qKX"
      },
      "cell_type": "markdown",
      "source": [
        "# **12. Feature Scaling** <a class=\"anchor\" id=\"12\"></a>\n",
        "\n",
        "[Table of Contents](#0.1)"
      ]
    },
    {
      "metadata": {
        "trusted": true,
        "id": "rMxHgHq-4qKX"
      },
      "cell_type": "code",
      "source": [
        "cols = X_train.columns"
      ],
      "execution_count": null,
      "outputs": []
    },
    {
      "metadata": {
        "trusted": true,
        "id": "TGejmJNY4qKX"
      },
      "cell_type": "code",
      "source": [
        "from sklearn.preprocessing import StandardScaler\n",
        "\n",
        "scaler = StandardScaler()\n",
        "\n",
        "X_train = scaler.fit_transform(X_train)\n",
        "\n",
        "X_test = scaler.transform(X_test)\n"
      ],
      "execution_count": null,
      "outputs": []
    },
    {
      "metadata": {
        "trusted": true,
        "id": "ROEs3lh44qKX"
      },
      "cell_type": "code",
      "source": [
        "X_train = pd.DataFrame(X_train, columns=[cols])"
      ],
      "execution_count": null,
      "outputs": []
    },
    {
      "metadata": {
        "trusted": true,
        "id": "DPWZih6k4qKX"
      },
      "cell_type": "code",
      "source": [
        "X_test = pd.DataFrame(X_test, columns=[cols])"
      ],
      "execution_count": null,
      "outputs": []
    },
    {
      "metadata": {
        "trusted": true,
        "id": "M4URDZep4qKY"
      },
      "cell_type": "code",
      "source": [
        "X_train.head()"
      ],
      "execution_count": null,
      "outputs": []
    },
    {
      "metadata": {
        "id": "lnR20TNP4qKY"
      },
      "cell_type": "markdown",
      "source": [
        "We now have `X_train` dataset ready to be fed into the Logistic Regression classifier. I will do it as follows."
      ]
    },
    {
      "metadata": {
        "id": "a3bZnIQv4qKY"
      },
      "cell_type": "markdown",
      "source": [
        "# **13. Fit K Neighbours Classifier to the training eet** <a class=\"anchor\" id=\"13\"></a>\n",
        "\n",
        "[Table of Contents](#0.1)"
      ]
    },
    {
      "metadata": {
        "trusted": true,
        "id": "ev_Z5yMx4qKY"
      },
      "cell_type": "code",
      "source": [
        "# import KNeighbors ClaSSifier from sklearn\n",
        "from sklearn.neighbors import KNeighborsClassifier\n",
        "\n",
        "\n",
        "# instantiate the model\n",
        "knn = KNeighborsClassifier(n_neighbors=3)\n",
        "\n",
        "\n",
        "# fit the model to the training set\n",
        "knn.fit(X_train, y_train)\n"
      ],
      "execution_count": null,
      "outputs": []
    },
    {
      "metadata": {
        "id": "TB9odnFc4qKY"
      },
      "cell_type": "markdown",
      "source": [
        "# **14. Predict test-set results** <a class=\"anchor\" id=\"14\"></a>\n",
        "\n",
        "[Table of Contents](#0.1)"
      ]
    },
    {
      "metadata": {
        "trusted": true,
        "id": "eJxi6jrf4qKY"
      },
      "cell_type": "code",
      "source": [
        "y_pred = knn.predict(X_test)\n",
        "\n",
        "y_pred"
      ],
      "execution_count": null,
      "outputs": []
    },
    {
      "metadata": {
        "id": "A20pmq9C4qKY"
      },
      "cell_type": "markdown",
      "source": [
        "### predict_proba method\n",
        "\n",
        "\n",
        "**predict_proba** method gives the probabilities for the target variable(2 and 4) in this case, in array form.\n",
        "\n",
        "`2 is for probability of benign cancer` and `4 is for probability of malignant cancer.`"
      ]
    },
    {
      "metadata": {
        "trusted": true,
        "id": "jsimcvDb4qKY"
      },
      "cell_type": "code",
      "source": [
        "# probability of getting output as 2 - benign cancer\n",
        "\n",
        "knn.predict_proba(X_test)[:,0]"
      ],
      "execution_count": null,
      "outputs": []
    },
    {
      "metadata": {
        "trusted": true,
        "id": "ZUhbZI1v4qKY"
      },
      "cell_type": "code",
      "source": [
        "# probability of getting output as 4 - malignant cancer\n",
        "\n",
        "knn.predict_proba(X_test)[:,1]"
      ],
      "execution_count": null,
      "outputs": []
    },
    {
      "metadata": {
        "id": "zJuDdt3V4qKY"
      },
      "cell_type": "markdown",
      "source": [
        "# **15. Check accuracy score** <a class=\"anchor\" id=\"15\"></a>\n",
        "\n",
        "[Table of Contents](#0.1)"
      ]
    },
    {
      "metadata": {
        "trusted": true,
        "id": "A_Gx0UpF4qKY"
      },
      "cell_type": "code",
      "source": [
        "from sklearn.metrics import accuracy_score\n",
        "\n",
        "print('Model accuracy score: {0:0.4f}'. format(accuracy_score(y_test, y_pred)))"
      ],
      "execution_count": null,
      "outputs": []
    },
    {
      "metadata": {
        "id": "W5milGSc4qKY"
      },
      "cell_type": "markdown",
      "source": [
        "Here, **y_test** are the true class labels and **y_pred** are the predicted class labels in the test-set."
      ]
    },
    {
      "metadata": {
        "id": "pLiSNVM04qKY"
      },
      "cell_type": "markdown",
      "source": [
        "### Compare the train-set and test-set accuracy\n",
        "\n",
        "\n",
        "Now, I will compare the train-set and test-set accuracy to check for overfitting."
      ]
    },
    {
      "metadata": {
        "trusted": true,
        "id": "StTRF0tD4qKZ"
      },
      "cell_type": "code",
      "source": [
        "y_pred_train = knn.predict(X_train)"
      ],
      "execution_count": null,
      "outputs": []
    },
    {
      "metadata": {
        "trusted": true,
        "id": "KdZv3M284qKZ"
      },
      "cell_type": "code",
      "source": [
        "print('Training-set accuracy score: {0:0.4f}'. format(accuracy_score(y_train, y_pred_train)))"
      ],
      "execution_count": null,
      "outputs": []
    },
    {
      "metadata": {
        "id": "ZgGdPnex4qKZ"
      },
      "cell_type": "markdown",
      "source": [
        "### Check for overfitting and underfitting"
      ]
    },
    {
      "metadata": {
        "trusted": true,
        "id": "Q-3DgEaz4qKZ"
      },
      "cell_type": "code",
      "source": [
        "# print the scores on training and test set\n",
        "\n",
        "print('Training set score: {:.4f}'.format(knn.score(X_train, y_train)))\n",
        "\n",
        "print('Test set score: {:.4f}'.format(knn.score(X_test, y_test)))"
      ],
      "execution_count": null,
      "outputs": []
    },
    {
      "metadata": {
        "id": "Qzz6jjbQ4qKZ"
      },
      "cell_type": "markdown",
      "source": [
        "The training-set accuracy score is 0.9821 while the test-set accuracy to be 0.9714. These two values are quite comparable. So, there is no question of overfitting.\n"
      ]
    },
    {
      "metadata": {
        "id": "YMzHp3e04qKZ"
      },
      "cell_type": "markdown",
      "source": [
        "### Compare model accuracy with null accuracy\n",
        "\n",
        "\n",
        "So, the model accuracy is 0.9714. But, we cannot say that our model is very good based on the above accuracy. We must compare it with the **null accuracy**. Null accuracy is the accuracy that could be achieved by always predicting the most frequent class.\n",
        "\n",
        "So, we should first check the class distribution in the test set."
      ]
    },
    {
      "metadata": {
        "trusted": true,
        "id": "pBUdVHhZ4qKZ"
      },
      "cell_type": "code",
      "source": [
        "# check class distribution in test set\n",
        "\n",
        "y_test.value_counts()"
      ],
      "execution_count": null,
      "outputs": []
    },
    {
      "metadata": {
        "id": "QEqCDU_-4qKZ"
      },
      "cell_type": "markdown",
      "source": [
        "We can see that the occurences of most frequent class is 85. So, we can calculate null accuracy by dividing 85 by total number of occurences."
      ]
    },
    {
      "metadata": {
        "trusted": true,
        "id": "1hn2hSRz4qKZ"
      },
      "cell_type": "code",
      "source": [
        "# check null accuracy score\n",
        "\n",
        "null_accuracy = (85/(85+55))\n",
        "\n",
        "print('Null accuracy score: {0:0.4f}'. format(null_accuracy))"
      ],
      "execution_count": null,
      "outputs": []
    },
    {
      "metadata": {
        "id": "sQeQd95N4qKZ"
      },
      "cell_type": "markdown",
      "source": [
        "We can see that our model accuracy score is 0.9714 but null accuracy score is 0.6071. So, we can conclude that our K Nearest Neighbors model is doing a very good job in predicting the class labels."
      ]
    },
    {
      "metadata": {
        "id": "JeKeLfsY4qKZ"
      },
      "cell_type": "markdown",
      "source": [
        "# **16. Rebuild kNN Classification model using different values of k** <a class=\"anchor\" id=\"16\"></a>\n",
        "\n",
        "[Table of Contents](#0.1)\n",
        "\n",
        "\n",
        "I have build the kNN classification model using k=3. Now, I will increase the value of k and see its effect on accuracy."
      ]
    },
    {
      "metadata": {
        "id": "9gUsJPYx4qKa"
      },
      "cell_type": "markdown",
      "source": [
        "### Rebuild kNN Classification model using k=5"
      ]
    },
    {
      "metadata": {
        "trusted": true,
        "id": "yNyHMML04qKa"
      },
      "cell_type": "code",
      "source": [
        "# instantiate the model with k=5\n",
        "knn_5 = KNeighborsClassifier(n_neighbors=5)\n",
        "\n",
        "\n",
        "# fit the model to the training set\n",
        "knn_5.fit(X_train, y_train)\n",
        "\n",
        "\n",
        "# predict on the test-set\n",
        "y_pred_5 = knn_5.predict(X_test)\n",
        "\n",
        "\n",
        "print('Model accuracy score with k=5 : {0:0.4f}'. format(accuracy_score(y_test, y_pred_5)))"
      ],
      "execution_count": null,
      "outputs": []
    },
    {
      "metadata": {
        "id": "FpeT3VJA4qKa"
      },
      "cell_type": "markdown",
      "source": [
        "### Rebuild kNN Classification model using k=6"
      ]
    },
    {
      "metadata": {
        "trusted": true,
        "id": "STAoGy3h4qKa"
      },
      "cell_type": "code",
      "source": [
        "# instantiate the model with k=6\n",
        "knn_6 = KNeighborsClassifier(n_neighbors=6)\n",
        "\n",
        "\n",
        "# fit the model to the training set\n",
        "knn_6.fit(X_train, y_train)\n",
        "\n",
        "\n",
        "# predict on the test-set\n",
        "y_pred_6 = knn_6.predict(X_test)\n",
        "\n",
        "\n",
        "print('Model accuracy score with k=6 : {0:0.4f}'. format(accuracy_score(y_test, y_pred_6)))"
      ],
      "execution_count": null,
      "outputs": []
    },
    {
      "metadata": {
        "id": "_UYQ8Snu4qKa"
      },
      "cell_type": "markdown",
      "source": [
        "### Rebuild kNN Classification model using k=7"
      ]
    },
    {
      "metadata": {
        "trusted": true,
        "id": "GqAIRVCB4qKa"
      },
      "cell_type": "code",
      "source": [
        "# instantiate the model with k=7\n",
        "knn_7 = KNeighborsClassifier(n_neighbors=7)\n",
        "\n",
        "\n",
        "# fit the model to the training set\n",
        "knn_7.fit(X_train, y_train)\n",
        "\n",
        "\n",
        "# predict on the test-set\n",
        "y_pred_7 = knn_7.predict(X_test)\n",
        "\n",
        "\n",
        "print('Model accuracy score with k=7 : {0:0.4f}'. format(accuracy_score(y_test, y_pred_7)))"
      ],
      "execution_count": null,
      "outputs": []
    },
    {
      "metadata": {
        "id": "BvLR9Rwf4qKa"
      },
      "cell_type": "markdown",
      "source": [
        "### Rebuild kNN Classification model using k=8"
      ]
    },
    {
      "metadata": {
        "trusted": true,
        "id": "H16_OXcY4qKa"
      },
      "cell_type": "code",
      "source": [
        "# instantiate the model with k=8\n",
        "knn_8 = KNeighborsClassifier(n_neighbors=8)\n",
        "\n",
        "\n",
        "# fit the model to the training set\n",
        "knn_8.fit(X_train, y_train)\n",
        "\n",
        "\n",
        "# predict on the test-set\n",
        "y_pred_8 = knn_8.predict(X_test)\n",
        "\n",
        "\n",
        "print('Model accuracy score with k=8 : {0:0.4f}'. format(accuracy_score(y_test, y_pred_8)))"
      ],
      "execution_count": null,
      "outputs": []
    },
    {
      "metadata": {
        "id": "QXbM8RRb4qKa"
      },
      "cell_type": "markdown",
      "source": [
        "### Rebuild kNN Classification model using k=9"
      ]
    },
    {
      "metadata": {
        "trusted": true,
        "id": "kV1yqISj4qKa"
      },
      "cell_type": "code",
      "source": [
        "# instantiate the model with k=9\n",
        "knn_9 = KNeighborsClassifier(n_neighbors=9)\n",
        "\n",
        "\n",
        "# fit the model to the training set\n",
        "knn_9.fit(X_train, y_train)\n",
        "\n",
        "\n",
        "# predict on the test-set\n",
        "y_pred_9 = knn_9.predict(X_test)\n",
        "\n",
        "\n",
        "print('Model accuracy score with k=9 : {0:0.4f}'. format(accuracy_score(y_test, y_pred_9)))"
      ],
      "execution_count": null,
      "outputs": []
    },
    {
      "metadata": {
        "id": "Bk0guWeB4qKa"
      },
      "cell_type": "markdown",
      "source": [
        "### Interpretation\n",
        "\n",
        "\n",
        "Our original model accuracy score with k=3 is 0.9714. Now, we can see that we get same accuracy score of 0.9714 with k=5. But, if we increase the value of k further, this would result in enhanced accuracy.\n",
        "\n",
        "\n",
        "With k=6,7,8 we get accuracy score of 0.9786. So, it results in performance improvement.\n",
        "\n",
        "\n",
        "If we increase k to 9, then accuracy decreases again to 0.9714."
      ]
    },
    {
      "metadata": {
        "id": "3a6BZrFf4qKa"
      },
      "cell_type": "markdown",
      "source": [
        "Now, based on the above analysis we can conclude that our classification model accuracy is very good. Our model is doing a very good job in terms of predicting the class labels.\n",
        "\n",
        "\n",
        "But, it does not give the underlying distribution of values. Also, it does not tell anything about the type of errors our classifer is making.\n",
        "\n",
        "\n",
        "We have another tool called `Confusion matrix` that comes to our rescue."
      ]
    },
    {
      "metadata": {
        "id": "LD4TWGUF4qKb"
      },
      "cell_type": "markdown",
      "source": [
        "# **17. Confusion matrix** <a class=\"anchor\" id=\"17\"></a>\n",
        "\n",
        "[Table of Contents](#0.1)\n",
        "\n",
        "\n",
        "A confusion matrix is a tool for summarizing the performance of a classification algorithm. A confusion matrix will give us a clear picture of classification model performance and the types of errors produced by the model. It gives us a summary of correct and incorrect predictions broken down by each category. The summary is represented in a tabular form.\n",
        "\n",
        "\n",
        "Four types of outcomes are possible while evaluating a classification model performance. These four outcomes are described below:-\n",
        "\n",
        "\n",
        "**True Positives (TP)** – True Positives occur when we predict an observation belongs to a certain class and the observation actually belongs to that class.\n",
        "\n",
        "\n",
        "**True Negatives (TN)** – True Negatives occur when we predict an observation does not belong to a certain class and the observation actually does not belong to that class.\n",
        "\n",
        "\n",
        "**False Positives (FP)** – False Positives occur when we predict an observation belongs to a    certain class but the observation actually does not belong to that class. This type of error is called **Type I error.**\n",
        "\n",
        "\n",
        "\n",
        "**False Negatives (FN)** – False Negatives occur when we predict an observation does not belong to a certain class but the observation actually belongs to that class. This is a very serious error and it is called **Type II error.**\n",
        "\n",
        "\n",
        "\n",
        "These four outcomes are summarized in a confusion matrix given below.\n"
      ]
    },
    {
      "metadata": {
        "trusted": true,
        "id": "nddwPB6h4qKb"
      },
      "cell_type": "code",
      "source": [
        "# Print the Confusion Matrix with k =3 and slice it into four pieces\n",
        "\n",
        "from sklearn.metrics import confusion_matrix\n",
        "\n",
        "cm = confusion_matrix(y_test, y_pred)\n",
        "\n",
        "print('Confusion matrix\\n\\n', cm)\n",
        "\n",
        "print('\\nTrue Positives(TP) = ', cm[0,0])\n",
        "\n",
        "print('\\nTrue Negatives(TN) = ', cm[1,1])\n",
        "\n",
        "print('\\nFalse Positives(FP) = ', cm[0,1])\n",
        "\n",
        "print('\\nFalse Negatives(FN) = ', cm[1,0])"
      ],
      "execution_count": null,
      "outputs": []
    },
    {
      "metadata": {
        "id": "GgNRkfOW4qKb"
      },
      "cell_type": "markdown",
      "source": [
        "The confusion matrix shows `83 + 53 = 136 correct predictions` and `2 + 2 = 4 incorrect predictions`.\n",
        "\n",
        "\n",
        "In this case, we have\n",
        "\n",
        "\n",
        "- `True Positives` (Actual Positive:1 and Predict Positive:1) - 83\n",
        "\n",
        "\n",
        "- `True Negatives` (Actual Negative:0 and Predict Negative:0) - 53\n",
        "\n",
        "\n",
        "- `False Positives` (Actual Negative:0 but Predict Positive:1) - 2 `(Type I error)`\n",
        "\n",
        "\n",
        "- `False Negatives` (Actual Positive:1 but Predict Negative:0) - 2 `(Type II error)`"
      ]
    },
    {
      "metadata": {
        "trusted": true,
        "id": "i4wWj6SF4qKb"
      },
      "cell_type": "code",
      "source": [
        "# Print the Confusion Matrix with k =7 and slice it into four pieces\n",
        "\n",
        "cm_7 = confusion_matrix(y_test, y_pred_7)\n",
        "\n",
        "print('Confusion matrix\\n\\n', cm_7)\n",
        "\n",
        "print('\\nTrue Positives(TP) = ', cm_7[0,0])\n",
        "\n",
        "print('\\nTrue Negatives(TN) = ', cm_7[1,1])\n",
        "\n",
        "print('\\nFalse Positives(FP) = ', cm_7[0,1])\n",
        "\n",
        "print('\\nFalse Negatives(FN) = ', cm_7[1,0])"
      ],
      "execution_count": null,
      "outputs": []
    },
    {
      "metadata": {
        "id": "Nax356UL4qKd"
      },
      "cell_type": "markdown",
      "source": [
        "The above confusion matrix shows `83 + 54 = 137 correct predictions` and `2 + 1 = 4 incorrect predictions`.\n",
        "\n",
        "\n",
        "In this case, we have\n",
        "\n",
        "\n",
        "- `True Positives` (Actual Positive:1 and Predict Positive:1) - 83\n",
        "\n",
        "\n",
        "- `True Negatives` (Actual Negative:0 and Predict Negative:0) - 54\n",
        "\n",
        "\n",
        "- `False Positives` (Actual Negative:0 but Predict Positive:1) - 2 `(Type I error)`\n",
        "\n",
        "\n",
        "- `False Negatives` (Actual Positive:1 but Predict Negative:0) - 1 `(Type II error)`"
      ]
    },
    {
      "metadata": {
        "id": "zb32a2zx4qKd"
      },
      "cell_type": "markdown",
      "source": [
        "### Comment\n",
        "\n",
        "\n",
        "So, kNN Classification model with k=7 shows more accurate predictions and less number of errors than k=3 model. Hence, we got performance improvement with k=7."
      ]
    },
    {
      "metadata": {
        "trusted": true,
        "id": "M9SSdve14qKe"
      },
      "cell_type": "code",
      "source": [
        "# visualize confusion matrix with seaborn heatmap\n",
        "\n",
        "plt.figure(figsize=(6,4))\n",
        "\n",
        "cm_matrix = pd.DataFrame(data=cm_7, columns=['Actual Positive:1', 'Actual Negative:0'],\n",
        "                                 index=['Predict Positive:1', 'Predict Negative:0'])\n",
        "\n",
        "sns.heatmap(cm_matrix, annot=True, fmt='d', cmap='YlGnBu')"
      ],
      "execution_count": null,
      "outputs": []
    },
    {
      "metadata": {
        "id": "bgRZC-Aj4qKe"
      },
      "cell_type": "markdown",
      "source": [
        "# **18. Classification metrices** <a class=\"anchor\" id=\"18\"></a>\n",
        "\n",
        "[Table of Contents](#0.1)"
      ]
    },
    {
      "metadata": {
        "id": "EXcW9dx44qKe"
      },
      "cell_type": "markdown",
      "source": [
        "### Classification Report\n",
        "\n",
        "\n",
        "**Classification report** is another way to evaluate the classification model performance. It displays the  **precision**, **recall**, **f1** and **support** scores for the model. I have described these terms in later.\n",
        "\n",
        "We can print a classification report as follows:-"
      ]
    },
    {
      "metadata": {
        "trusted": true,
        "id": "I4tj0arT4qKe"
      },
      "cell_type": "code",
      "source": [
        "from sklearn.metrics import classification_report\n",
        "\n",
        "print(classification_report(y_test, y_pred_7))"
      ],
      "execution_count": null,
      "outputs": []
    },
    {
      "metadata": {
        "id": "30VxZ1734qKe"
      },
      "cell_type": "markdown",
      "source": [
        "### Classification accuracy"
      ]
    },
    {
      "metadata": {
        "trusted": true,
        "id": "_XkS3BxI4qKe"
      },
      "cell_type": "code",
      "source": [
        "TP = cm_7[0,0]\n",
        "TN = cm_7[1,1]\n",
        "FP = cm_7[0,1]\n",
        "FN = cm_7[1,0]"
      ],
      "execution_count": null,
      "outputs": []
    },
    {
      "metadata": {
        "trusted": true,
        "id": "0jp1WrJT4qKe"
      },
      "cell_type": "code",
      "source": [
        "# print classification accuracy\n",
        "\n",
        "classification_accuracy = (TP + TN) / float(TP + TN + FP + FN)\n",
        "\n",
        "print('Classification accuracy : {0:0.4f}'.format(classification_accuracy))\n"
      ],
      "execution_count": null,
      "outputs": []
    },
    {
      "metadata": {
        "id": "ox36RoP_4qKf"
      },
      "cell_type": "markdown",
      "source": [
        "### Classification error"
      ]
    },
    {
      "metadata": {
        "trusted": true,
        "id": "ywULzrk24qKf"
      },
      "cell_type": "code",
      "source": [
        "# print classification error\n",
        "\n",
        "classification_error = (FP + FN) / float(TP + TN + FP + FN)\n",
        "\n",
        "print('Classification error : {0:0.4f}'.format(classification_error))\n"
      ],
      "execution_count": null,
      "outputs": []
    },
    {
      "metadata": {
        "id": "XzTG7qBz4qKf"
      },
      "cell_type": "markdown",
      "source": [
        "### Precision\n",
        "\n",
        "\n",
        "**Precision** can be defined as the percentage of correctly predicted positive outcomes out of all the predicted positive outcomes. It can be given as the ratio of true positives (TP) to the sum of true and false positives (TP + FP).\n",
        "\n",
        "\n",
        "So, **Precision** identifies the proportion of correctly predicted positive outcome. It is more concerned with the positive class than the negative class.\n",
        "\n",
        "\n",
        "\n",
        "Mathematically, `precision` can be defined as the ratio of `TP to (TP + FP)`.\n"
      ]
    },
    {
      "metadata": {
        "trusted": true,
        "id": "G7oopqMd4qKf"
      },
      "cell_type": "code",
      "source": [
        "# print precision score\n",
        "\n",
        "precision = TP / float(TP + FP)\n",
        "\n",
        "\n",
        "print('Precision : {0:0.4f}'.format(precision))\n"
      ],
      "execution_count": null,
      "outputs": []
    },
    {
      "metadata": {
        "id": "UKmMxlf-4qKf"
      },
      "cell_type": "markdown",
      "source": [
        "### Recall\n",
        "\n",
        "\n",
        "Recall can be defined as the percentage of correctly predicted positive outcomes out of all the actual positive outcomes.\n",
        "It can be given as the ratio of true positives (TP) to the sum of true positives and false negatives (TP + FN). **Recall** is also called **Sensitivity**.\n",
        "\n",
        "\n",
        "**Recall** identifies the proportion of correctly predicted actual positives.\n",
        "\n",
        "\n",
        "Mathematically, `recall` can be given as the ratio of `TP to (TP + FN)`.\n",
        "\n"
      ]
    },
    {
      "metadata": {
        "trusted": true,
        "id": "-T5WZYdL4qKf"
      },
      "cell_type": "code",
      "source": [
        "recall = TP / float(TP + FN)\n",
        "\n",
        "print('Recall or Sensitivity : {0:0.4f}'.format(recall))"
      ],
      "execution_count": null,
      "outputs": []
    },
    {
      "metadata": {
        "id": "3I3gsRNI4qKf"
      },
      "cell_type": "markdown",
      "source": [
        "### True Positive Rate\n",
        "\n",
        "\n",
        "**True Positive Rate** is synonymous with **Recall**.\n"
      ]
    },
    {
      "metadata": {
        "trusted": true,
        "id": "wb53QZwa4qKf"
      },
      "cell_type": "code",
      "source": [
        "true_positive_rate = TP / float(TP + FN)\n",
        "\n",
        "\n",
        "print('True Positive Rate : {0:0.4f}'.format(true_positive_rate))"
      ],
      "execution_count": null,
      "outputs": []
    },
    {
      "metadata": {
        "id": "FZf12EbI4qKf"
      },
      "cell_type": "markdown",
      "source": [
        "### False Positive Rate"
      ]
    },
    {
      "metadata": {
        "trusted": true,
        "id": "pHFdFjaS4qKf"
      },
      "cell_type": "code",
      "source": [
        "false_positive_rate = FP / float(FP + TN)\n",
        "\n",
        "\n",
        "print('False Positive Rate : {0:0.4f}'.format(false_positive_rate))"
      ],
      "execution_count": null,
      "outputs": []
    },
    {
      "metadata": {
        "id": "1JZNc6Im4qKf"
      },
      "cell_type": "markdown",
      "source": [
        "### Specificity"
      ]
    },
    {
      "metadata": {
        "trusted": true,
        "id": "ZBTdZ7TP4qKf"
      },
      "cell_type": "code",
      "source": [
        "specificity = TN / (TN + FP)\n",
        "\n",
        "print('Specificity : {0:0.4f}'.format(specificity))"
      ],
      "execution_count": null,
      "outputs": []
    },
    {
      "metadata": {
        "id": "zFVlOdxo4qKf"
      },
      "cell_type": "markdown",
      "source": [
        "### f1-score\n",
        "\n",
        "\n",
        "**f1-score** is the weighted harmonic mean of precision and recall. The best possible **f1-score** would be 1.0 and the worst\n",
        "would be 0.0.  **f1-score** is the harmonic mean of precision and recall. So, **f1-score** is always lower than accuracy measures as they embed precision and recall into their computation. The weighted average of `f1-score` should be used to\n",
        "compare classifier models, not global accuracy.\n"
      ]
    },
    {
      "metadata": {
        "id": "jAOqzdn_4qKf"
      },
      "cell_type": "markdown",
      "source": [
        "### Support\n",
        "\n",
        "\n",
        "**Support** is the actual number of occurrences of the class in our dataset."
      ]
    },
    {
      "metadata": {
        "id": "qnLT-sjp4qKf"
      },
      "cell_type": "markdown",
      "source": [
        "### Adjusting the classification threshold level"
      ]
    },
    {
      "metadata": {
        "trusted": true,
        "id": "Nu7HL_Dc4qKg"
      },
      "cell_type": "code",
      "source": [
        "# print the first 10 predicted probabilities of two classes- 2 and 4\n",
        "\n",
        "y_pred_prob = knn.predict_proba(X_test)[0:10]\n",
        "\n",
        "y_pred_prob"
      ],
      "execution_count": null,
      "outputs": []
    },
    {
      "metadata": {
        "id": "mSUWdoYv4qKg"
      },
      "cell_type": "markdown",
      "source": [
        "### Observations\n",
        "\n",
        "\n",
        "- In each row, the numbers sum to 1.\n",
        "\n",
        "\n",
        "- There are 2 columns which correspond to 2 classes - 2 and 4.\n",
        "\n",
        "\n",
        "    - Class 2 - predicted probability that there is benign cancer.    \n",
        "    \n",
        "    - Class 4 - predicted probability that there is malignant cancer.\n",
        "        \n",
        "    \n",
        "- Importance of predicted probabilities\n",
        "\n",
        "    - We can rank the observations by probability of benign or malignant cancer.\n",
        "\n",
        "\n",
        "- predict_proba process\n",
        "\n",
        "    - Predicts the probabilities    \n",
        "    \n",
        "    - Choose the class with the highest probability    \n",
        "    \n",
        "    \n",
        "- Classification threshold level\n",
        "\n",
        "    - There is a classification threshold level of 0.5.    \n",
        "    \n",
        "    - Class 4 - probability of malignant cancer is predicted if probability > 0.5.    \n",
        "    \n",
        "    - Class 2 - probability of benign cancer is predicted if probability < 0.5.    \n",
        "    \n"
      ]
    },
    {
      "metadata": {
        "trusted": true,
        "id": "rUOzZEB_4qKg"
      },
      "cell_type": "code",
      "source": [
        "# store the probabilities in dataframe\n",
        "\n",
        "y_pred_prob_df = pd.DataFrame(data=y_pred_prob, columns=['Prob of - benign cancer (2)', 'Prob of - malignant cancer (4)'])\n",
        "\n",
        "y_pred_prob_df"
      ],
      "execution_count": null,
      "outputs": []
    },
    {
      "metadata": {
        "trusted": true,
        "id": "-J89Imkb4qKg"
      },
      "cell_type": "code",
      "source": [
        "# print the first 10 predicted probabilities for class 4 - Probability of malignant cancer\n",
        "\n",
        "knn.predict_proba(X_test)[0:10, 1]"
      ],
      "execution_count": null,
      "outputs": []
    },
    {
      "metadata": {
        "trusted": true,
        "id": "9KQLSpO04qKg"
      },
      "cell_type": "code",
      "source": [
        "# store the predicted probabilities for class 4 - Probability of malignant cancer\n",
        "\n",
        "y_pred_1 = knn.predict_proba(X_test)[:, 1]"
      ],
      "execution_count": null,
      "outputs": []
    },
    {
      "metadata": {
        "trusted": true,
        "id": "0aQPTvzK4qKg"
      },
      "cell_type": "code",
      "source": [
        "# plot histogram of predicted probabilities\n",
        "\n",
        "\n",
        "# adjust figure size\n",
        "plt.figure(figsize=(6,4))\n",
        "\n",
        "\n",
        "# adjust the font size\n",
        "plt.rcParams['font.size'] = 12\n",
        "\n",
        "\n",
        "# plot histogram with 10 bins\n",
        "plt.hist(y_pred_1, bins = 10)\n",
        "\n",
        "\n",
        "# set the title of predicted probabilities\n",
        "plt.title('Histogram of predicted probabilities of malignant cancer')\n",
        "\n",
        "\n",
        "# set the x-axis limit\n",
        "plt.xlim(0,1)\n",
        "\n",
        "\n",
        "# set the title\n",
        "plt.xlabel('Predicted probabilities of malignant cancer')\n",
        "plt.ylabel('Frequency')"
      ],
      "execution_count": null,
      "outputs": []
    },
    {
      "metadata": {
        "id": "qv1ZBkZv4qKg"
      },
      "cell_type": "markdown",
      "source": [
        "### Observations\n",
        "\n",
        "\n",
        "- We can see that the above histogram is positively skewed.\n",
        "\n",
        "\n",
        "- The first column tell us that there are approximately 80 observations with 0 probability of malignant cancer.\n",
        "\n",
        "\n",
        "- There are few observations with probability > 0.5.\n",
        "\n",
        "\n",
        "- So, these few observations predict that there will be malignant cancer.\n"
      ]
    },
    {
      "metadata": {
        "id": "CbpsXX8z4qKg"
      },
      "cell_type": "markdown",
      "source": [
        "### Comments\n",
        "\n",
        "\n",
        "- In binary problems, the threshold of 0.5 is used by default to convert predicted probabilities into class predictions.\n",
        "\n",
        "\n",
        "- Threshold can be adjusted to increase sensitivity or specificity.\n",
        "\n",
        "\n",
        "- Sensitivity and specificity have an inverse relationship. Increasing one would always decrease the other and vice versa.\n",
        "\n",
        "\n",
        "- Adjusting the threshold level should be one of the last step you do in the model-building process."
      ]
    },
    {
      "metadata": {
        "id": "sa1rniFb4qKh"
      },
      "cell_type": "markdown",
      "source": [
        "# **19. ROC-AUC** <a class=\"anchor\" id=\"19\"></a>\n",
        "\n",
        "[Table of Contents](#0.1)\n",
        "\n",
        "\n",
        "\n",
        "### ROC Curve\n",
        "\n",
        "\n",
        "Another tool to measure the classification model performance visually is **ROC Curve**. ROC Curve stands for **Receiver Operating Characteristic Curve**. An **ROC Curve** is a plot which shows the performance of a classification model at various\n",
        "classification threshold levels.\n",
        "\n",
        "\n",
        "\n",
        "The **ROC Curve** plots the **True Positive Rate (TPR)** against the **False Positive Rate (FPR)** at various threshold levels.\n",
        "\n",
        "\n",
        "\n",
        "\n",
        "**True Positive Rate (TPR)** is also called **Recall**. It is defined as the ratio of **TP to (TP + FN)**.\n",
        "\n",
        "\n",
        "\n",
        "\n",
        "\n",
        "**False Positive Rate (FPR)** is defined as the ratio of **FP to (FP + TN)**.\n",
        "\n",
        "\n",
        "\n",
        "\n",
        "In the ROC Curve, we will focus on the TPR (True Positive Rate) and FPR (False Positive Rate) of a single point. This will give us the general performance of the ROC curve which consists of the TPR and FPR at various threshold levels. So, an ROC Curve plots TPR vs FPR at different classification threshold levels. If we lower the threshold levels, it may result in more items being classified as positve. It will increase both True Positives (TP) and False Positives (FP).\n",
        "\n",
        "\n"
      ]
    },
    {
      "metadata": {
        "trusted": true,
        "id": "krItuXea4qKh"
      },
      "cell_type": "code",
      "source": [
        "# plot ROC Curve\n",
        "\n",
        "from sklearn.metrics import roc_curve\n",
        "\n",
        "fpr, tpr, thresholds = roc_curve(y_test, y_pred_1, pos_label=4)\n",
        "\n",
        "plt.figure(figsize=(6,4))\n",
        "\n",
        "plt.plot(fpr, tpr, linewidth=2)\n",
        "\n",
        "plt.plot([0,1], [0,1], 'k--' )\n",
        "\n",
        "plt.rcParams['font.size'] = 12\n",
        "\n",
        "plt.title('ROC curve for Breast Cancer kNN classifier')\n",
        "\n",
        "plt.xlabel('False Positive Rate (1 - Specificity)')\n",
        "\n",
        "plt.ylabel('True Positive Rate (Sensitivity)')\n",
        "\n",
        "plt.show()\n"
      ],
      "execution_count": null,
      "outputs": []
    },
    {
      "metadata": {
        "id": "OdxgtK7r4qKh"
      },
      "cell_type": "markdown",
      "source": [
        "ROC curve help us to choose a threshold level that balances sensitivity and specificity for a particular context."
      ]
    },
    {
      "metadata": {
        "id": "iypp6KaS4qKh"
      },
      "cell_type": "markdown",
      "source": [
        "### ROC  AUC\n",
        "\n",
        "\n",
        "**ROC AUC** stands for **Receiver Operating Characteristic - Area Under Curve**. It is a technique to compare classifier performance. In this technique, we measure the `area under the curve (AUC)`. A perfect classifier will have a ROC AUC equal to 1, whereas a purely random classifier will have a ROC AUC equal to 0.5.\n",
        "\n",
        "\n",
        "So, **ROC AUC** is the percentage of the ROC plot that is underneath the curve."
      ]
    },
    {
      "metadata": {
        "trusted": true,
        "id": "IZz_1t4B4qKh"
      },
      "cell_type": "code",
      "source": [
        "# compute ROC AUC\n",
        "\n",
        "from sklearn.metrics import roc_auc_score\n",
        "\n",
        "ROC_AUC = roc_auc_score(y_test, y_pred_1)\n",
        "\n",
        "print('ROC AUC : {:.4f}'.format(ROC_AUC))"
      ],
      "execution_count": null,
      "outputs": []
    },
    {
      "metadata": {
        "id": "VyFqCWXG4qKh"
      },
      "cell_type": "markdown",
      "source": [
        "### Interpretation\n",
        "\n",
        "\n",
        "- ROC AUC is a single number summary of classifier performance. The higher the value, the better the classifier.\n",
        "\n",
        "- ROC AUC of our model approaches towards 1. So, we can conclude that our classifier does a good job in predicting whether it is benign or malignant cancer."
      ]
    },
    {
      "metadata": {
        "trusted": true,
        "id": "HfjUT_o_4qKh"
      },
      "cell_type": "code",
      "source": [
        "# calculate cross-validated ROC AUC\n",
        "\n",
        "from sklearn.model_selection import cross_val_score\n",
        "\n",
        "Cross_validated_ROC_AUC = cross_val_score(knn_7, X_train, y_train, cv=5, scoring='roc_auc').mean()\n",
        "\n",
        "print('Cross validated ROC AUC : {:.4f}'.format(Cross_validated_ROC_AUC))"
      ],
      "execution_count": null,
      "outputs": []
    },
    {
      "metadata": {
        "id": "kx0FQBKk4qKh"
      },
      "cell_type": "markdown",
      "source": [
        "### Interpretation\n",
        "\n",
        "Our Cross Validated ROC AUC is very close to 1. So, we can conclude that, the KNN classifier is indeed a very good model."
      ]
    },
    {
      "metadata": {
        "id": "hBQw_R6t4qKh"
      },
      "cell_type": "markdown",
      "source": [
        "# **20. k-fold Cross Validation** <a class=\"anchor\" id=\"20\"></a>\n",
        "\n",
        "[Table of Contents](#0.1)\n",
        "\n",
        "\n",
        "In this section, I will apply k-fold Cross Validation technique to improve the model performance. Cross-validation is a statistical method of evaluating generalization performance It is more stable and thorough than using a train-test split to evaluate model performance."
      ]
    },
    {
      "metadata": {
        "trusted": true,
        "id": "5AY2zR8z4qKi"
      },
      "cell_type": "code",
      "source": [
        "# Applying 10-Fold Cross Validation\n",
        "\n",
        "from sklearn.model_selection import cross_val_score\n",
        "\n",
        "scores = cross_val_score(knn_7, X_train, y_train, cv = 10, scoring='accuracy')\n",
        "\n",
        "print('Cross-validation scores:{}'.format(scores))"
      ],
      "execution_count": null,
      "outputs": []
    },
    {
      "metadata": {
        "id": "2S943D7n4qKi"
      },
      "cell_type": "markdown",
      "source": [
        "We can summarize the cross-validation accuracy by calculating its mean."
      ]
    },
    {
      "metadata": {
        "trusted": true,
        "id": "YLG94NBJ4qKi"
      },
      "cell_type": "code",
      "source": [
        "# compute Average cross-validation score\n",
        "\n",
        "print('Average cross-validation score: {:.4f}'.format(scores.mean()))"
      ],
      "execution_count": null,
      "outputs": []
    },
    {
      "metadata": {
        "id": "hL6HTb5h4qKi"
      },
      "cell_type": "markdown",
      "source": [
        "### Interpretation\n",
        "\n",
        "\n",
        "- Using the mean cross-validation, we can conclude that we expect the model to be around 96.46 % accurate on average.\n",
        "\n",
        "- If we look at all the 10 scores produced by the 10-fold cross-validation, we can also conclude that there is a relatively high variance in the accuracy between folds, ranging from 100% accuracy to 87.72% accuracy. So, we can conclude that the model is very dependent on the particular folds used for training, but it also be the consequence of the small size of the dataset.\n",
        "\n",
        "- We can see that 10-fold cross-validation accuracy does not result in performance improvement for this model."
      ]
    },
    {
      "metadata": {
        "id": "rc2mDPyW4qKi"
      },
      "cell_type": "markdown",
      "source": [
        "# **21. Results and Conclusion** <a class=\"anchor\" id=\"21\"></a>\n",
        "\n",
        "[Table of Contents](#0.1)\n",
        "\n",
        "\n",
        "\n",
        "1. In this project, I build a kNN classifier model to classify the patients suffering from breast cancer. The model yields very good performance as indicated by the model accuracy which was found to be 0.9786 with k=7.\n",
        "\n",
        "2. With k=3, the training-set accuracy score is 0.9821 while the test-set accuracy to be 0.9714. These two values are quite comparable. So, there is no question of overfitting.\n",
        "\n",
        "3. I have compared the model accuracy score which is 0.9714 with null accuracy score which is 0.6071. So, we can conclude that our K Nearest Neighbors model is doing a very good job in predicting the class labels.\n",
        "\n",
        "4. Our original model accuracy score with k=3 is 0.9714. Now, we can see that we get same accuracy score of 0.9714 with k=5. But, if we increase the value of k further, this would result in enhanced accuracy. With k=6,7,8 we get accuracy score of 0.9786. So, it results in performance improvement. If we increase k to 9, then accuracy decreases again to 0.9714. So, we can conclude that our optimal value of k is 7.\n",
        "\n",
        "5. kNN Classification model with k=7 shows more accurate predictions and less number of errors than k=3 model. Hence, we got performance improvement with k=7.\n",
        "\n",
        "6. ROC AUC of our model approaches towards 1. So, we can conclude that our classifier does a good job in predicting whether it is benign or malignant cancer.\n",
        "\n",
        "7. Using the mean cross-validation, we can conclude that we expect the model to be around 96.46 % accurate on average.\n",
        "\n",
        "8. If we look at all the 10 scores produced by the 10-fold cross-validation, we can also conclude that there is a relatively high variance in the accuracy between folds, ranging from 100% accuracy to 87.72% accuracy. So, we can conclude that the model is very dependent on the particular folds used for training, but it also be the consequence of the small size of the dataset.\n"
      ]
    },
    {
      "metadata": {
        "id": "75rxoPhx4qKi"
      },
      "cell_type": "markdown",
      "source": [
        "# **22. References** <a class=\"anchor\" id=\"22\"></a>\n",
        "\n",
        "[Table of Contents](#0.1)\n",
        "\n",
        "The work done in this project is inspired from following books and websites:-\n",
        "\n",
        "1.\tHands on Machine Learning with Scikit-Learn and Tensorflow by Aurélién Géron\n",
        "2.\tIntroduction to Machine Learning with Python by Andreas C. Müller and Sarah Guido\n",
        "3.\tUdemy course – Machine Learning – A Z by Kirill Eremenko and Hadelin de Ponteves\n",
        "4.\thttps://en.wikipedia.org/wiki/K-nearest_neighbors_algorithm\n",
        "5.\thttps://www.datacamp.com/community/tutorials/k-nearest-neighbor-classification-scikit-learn\n",
        "6.\thttp://dataaspirant.com/2016/12/23/k-nearest-neighbor-classifier-intro/\n",
        "7.\thttps://stackabuse.com/k-nearest-neighbors-algorithm-in-python-and-scikit-learn/\n",
        "\n"
      ]
    },
    {
      "metadata": {
        "id": "4z9iT-JS4qKi"
      },
      "cell_type": "markdown",
      "source": [
        "So, now we will come to the end of this kernel.\n",
        "\n",
        "I hope you find this kernel useful and enjoyable.\n",
        "\n",
        "Your comments and feedback are most welcome.\n",
        "\n",
        "Thank you"
      ]
    },
    {
      "metadata": {
        "id": "pE0YRVjD4qKi"
      },
      "cell_type": "markdown",
      "source": [
        "[Go to Top](#0)"
      ]
    }
  ],
  "metadata": {
    "kernelspec": {
      "display_name": "Python 3",
      "language": "python",
      "name": "python3"
    },
    "language_info": {
      "codemirror_mode": {
        "name": "ipython",
        "version": 3
      },
      "file_extension": ".py",
      "mimetype": "text/x-python",
      "name": "python",
      "nbconvert_exporter": "python",
      "pygments_lexer": "ipython3",
      "version": "3.7.0"
    },
    "colab": {
      "name": "kNN Classifier Tutorial",
      "provenance": []
    }
  },
  "nbformat": 4,
  "nbformat_minor": 0
}